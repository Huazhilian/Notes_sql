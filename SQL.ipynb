{
 "cells": [
  {
   "cell_type": "markdown",
   "metadata": {},
   "source": [
    "- ### SQL (Structured Query Language)\n",
    "\n",
    "1. **Structure**\n",
    "\n",
    " Database(schema) - table\n",
    " \n",
    " Column & row - datatype\n",
    "\n",
    " Index & primary key & foreign keys\n",
    "\n",
    "---\n",
    "\n",
    " 2. **Datetype**\n",
    "\n",
    " Character: CHAR[(length)], NCHAR[(length)], NVARCHAR[(length)], TEXT[(length)]\n",
    "\n",
    " Value: BIT[(length)], DECIMAL[(length)], FLOAT[(length)], INT[(length)], REAL[(length)], SMALLINT[(length)], TINYINT[(length)]\n",
    "\n",
    " Date: DATE, DATETIME(TIMESTAMP), SAMLLDATETEIME, TIME\n",
    "\n",
    " Binary: BINARY, LONG RAW, RAW, VARBINARY\n",
    "\n",
    "---\n",
    "\n",
    " 3. **Syntax**\n",
    "\n",
    "[database and tables](#database-and-tables)\n",
    "\n",
    "[create drop tables](#create--drop-tables)\n",
    "\n",
    "[constraint](#constraint)\n",
    "\n",
    "[modify row data](#modify-row-data)\n",
    "\n",
    "[modify column data](#modify-column-data)\n",
    "\n",
    "[select data](#select-data)\n",
    "\n",
    "[filtering and conditions](#filtering-and-conditions)\n",
    "\n",
    "[aggregate functions](#aggregate-functions)\n",
    "\n",
    "[aggregation by group](#aggregation-by-group)\n",
    "\n",
    "[joins](#joins)\n",
    "\n",
    "[indexn & query](#index--query)\n",
    "\n",
    "[primary key & foreign key](#primary-key--foreign-key)\n",
    "\n",
    "[datetime](#datetime)\n",
    "\n",
    "[transaction](#transaction)\n",
    "\n",
    "[view](#view)\n",
    "\n",
    "[procedure](#procedure)\n",
    "\n",
    "[function](#function)\n",
    "\n",
    "---\n",
    "\n",
    " 4. **Punctuation**\n",
    "\n",
    " ',' between lines within the block\n",
    "\n",
    " ';' at the end of the block\n",
    "\n",
    "---\n",
    "\n",
    " 5. **Terminology**\n",
    " \n",
    " '[]' for optional, '|' for or"
   ]
  },
  {
   "cell_type": "markdown",
   "metadata": {},
   "source": [
    "---"
   ]
  },
  {
   "cell_type": "markdown",
   "metadata": {},
   "source": [
    "- ### Database and tables\n",
    "\n",
    "**show all databases**\n",
    "\n",
    "```sql\n",
    "SHOW DATABASES;\n",
    "```\n",
    "**select specific database**\n",
    "\n",
    "```sql\n",
    "USE database_name;\n",
    "```\n",
    "\n",
    "**current database**\n",
    "\n",
    "```sql\n",
    "SELECT DATABASE();\n",
    "```\n",
    "\n",
    "**show all tables**\n",
    "\n",
    "```sql\n",
    "SHOW TABLES;\n",
    "```"
   ]
  },
  {
   "cell_type": "markdown",
   "metadata": {},
   "source": [
    "---"
   ]
  },
  {
   "cell_type": "markdown",
   "metadata": {},
   "source": [
    "- ### Create / Drop tables\n",
    "\n",
    "**create table**\n",
    "\n",
    "```sql\n",
    "CREATE TABLE table_name(\n",
    "    column1 data_type1 [constraint1],\n",
    "    column2 data_type2 [constraint2],\n",
    "    ...\n",
    "    [table_constraint]\n",
    ");\n",
    "```\n",
    "\n",
    "**drop table**\n",
    "\n",
    "```sql\n",
    "DROP TABLE table_name;\n",
    "```"
   ]
  },
  {
   "cell_type": "markdown",
   "metadata": {},
   "source": [
    "---"
   ]
  },
  {
   "cell_type": "markdown",
   "metadata": {},
   "source": [
    "- ### Constraint\n",
    "\n",
    "**primary key**\n",
    "\n",
    "```sql\n",
    "PRIMARY KEY     --unique & not null\n",
    "```\n",
    "\n",
    "**foreign key**\n",
    "\n",
    "```sql\n",
    "FOREIGN KEY (id) REFERENCES parent_table(id)\n",
    "```\n",
    "\n",
    "**(not) null**\n",
    "\n",
    "```sql\n",
    "[NOT] NULL\n",
    "```\n",
    "\n",
    "**unique**\n",
    "\n",
    "```sql\n",
    "UNIQUE\n",
    "```\n",
    "\n",
    "**check**\n",
    "\n",
    "```sql\n",
    "CHECK(condition)\n",
    "```\n",
    "**default value**\n",
    "\n",
    "```sql\n",
    "DEFAULT 'default_value'\n",
    "```"
   ]
  },
  {
   "cell_type": "markdown",
   "metadata": {},
   "source": [
    "---"
   ]
  },
  {
   "cell_type": "markdown",
   "metadata": {},
   "source": [
    "- ### Modify row data\n",
    "\n",
    "**insert a row**\n",
    "```sql\n",
    "INSERT INTO table_name(col1,col2) VALUES ('value1', 'value2');\n",
    "```\n",
    "\n",
    "**insert multiple rows**\n",
    "\n",
    "```sql\n",
    "INSERT INTO table_name(col1,col2) VALUES\n",
    "('value1', 'value2'),\n",
    "('value3', 'value4');\n",
    "```\n",
    "\n",
    "**update rows**\n",
    "\n",
    "```sql\n",
    "UPDATE table_name\n",
    "SET col1='new_value'\n",
    "WHERE condition;\n",
    "```\n",
    "\n",
    "**delete rows**\n",
    "```sql\n",
    "DELETE FROM table_name\n",
    "WHERE condition;\n",
    "```\n"
   ]
  },
  {
   "cell_type": "markdown",
   "metadata": {},
   "source": [
    "---"
   ]
  },
  {
   "cell_type": "markdown",
   "metadata": {},
   "source": [
    "- ### Modify column data\n",
    "\n",
    "**alter table - add / drop / modify / rename**\n",
    "\n",
    "```sql\n",
    "ALTER TABLE table_name\n",
    "ADD COLUMN column_name data_type,\n",
    "DROP COLUMN column_name,\n",
    "MODLIFY column_name new_data_type,\n",
    "RENAME column_name TO new_column_name;\n",
    "```\n"
   ]
  },
  {
   "cell_type": "markdown",
   "metadata": {},
   "source": [
    "---"
   ]
  },
  {
   "cell_type": "markdown",
   "metadata": {},
   "source": [
    "- ### Select data\n",
    "\n",
    "**Select all**\n",
    "\n",
    "```sql\n",
    "SELECT * FROM table_name \n",
    "[WHERE condition]\n",
    "[ORDER BY col1 [ASC|DESC]], --ASC by default\n",
    "[ORDER BY col2 [ASC|DESC] [LIMIET n]];  --LIMIT: fetch top n rows\n",
    "```\n",
    "\n",
    "**Select columns**\n",
    "\n",
    "```sql\n",
    "SELECT col1, col2 FROM table_name\n",
    "[WHERE condition]\n",
    "[ORDER BY col1 [ASC|DESC]],\n",
    "[ORDER BY col2 [ASC|DESC]];\n",
    "```\n",
    "\n",
    "**Select distinct values from column**\n",
    "\n",
    "```sql\n",
    "SELECT DISTINCT col1 FROM table_name\n",
    "[WHERE condition]\n",
    "[ORDER BY col1 [ASC|DESC]];\n",
    "```"
   ]
  },
  {
   "cell_type": "markdown",
   "metadata": {},
   "source": [
    "---"
   ]
  },
  {
   "cell_type": "markdown",
   "metadata": {},
   "source": [
    "- ### Filtering and conditions\n",
    "\n",
    "**where**\n",
    "\n",
    "```sql\n",
    "WHERE col1 = 'value'\n",
    "WHERE col1 != 'value'   --not equal\n",
    "WHERE col1 > num_value1 AND col1 < num_value2\n",
    "WHERE col1 IN ('char1','char2' ,'char3')\n",
    "WHERE col1 LIKE 'A%'    --starts with A\n",
    "WHERE col1 IS [NOT] NULL\n",
    "```\n",
    "\n",
    "**case**\n",
    "\n",
    "```sql\n",
    "SELECT col1, \n",
    "       col2,\n",
    "       CASE\n",
    "           WHEN condition1 THEN 'result1'\n",
    "           WHEN condition2 THEN 'result2'\n",
    "           ELSE 'default_result'\n",
    "       END [AS result_name]\n",
    "FROM table_name           \n",
    "```\n",
    "\n",
    "```SQL\n",
    "ORDER BY\n",
    "    CASE\n",
    "        WHEN condition1 THEN 'result1'\n",
    "        WHEN condition2 THEN 'result2'\n",
    "        ELSE 'default_result'\n",
    "    END [AS result_name]; \n",
    "```"
   ]
  },
  {
   "cell_type": "markdown",
   "metadata": {},
   "source": [
    "---"
   ]
  },
  {
   "cell_type": "markdown",
   "metadata": {},
   "source": [
    "- ### Aggregate functions\n",
    "\n",
    "**count**\n",
    "```sql\n",
    "SELECT COUNT(*) FROM table_name;\n",
    "```\n",
    "\n",
    "**average**\n",
    "```sql\n",
    "SELECT AVG(col) FROM table_name;\n",
    "```\n",
    "\n",
    "**max and min**\n",
    "```sql\n",
    "SELECT MAX(col), MIN(col) FROM table_name;\n",
    "```\n",
    "\n",
    "**sum**\n",
    "```sql\n",
    "SELECT SUM(col) FROM table_name;\n",
    "```"
   ]
  },
  {
   "cell_type": "markdown",
   "metadata": {},
   "source": [
    "---"
   ]
  },
  {
   "cell_type": "markdown",
   "metadata": {},
   "source": [
    "- ### Aggregation by group\n",
    "\n",
    "**group by & having**\n",
    "\n",
    "```sql\n",
    "SELECT column1, AGG_FUNC(column2) [AS agg_name] FROM table_name [WHERE condition]\n",
    "GROUP BY column1 [HAVING condition_on_aggregations];\n",
    "```"
   ]
  },
  {
   "cell_type": "markdown",
   "metadata": {},
   "source": [
    "---"
   ]
  },
  {
   "cell_type": "markdown",
   "metadata": {},
   "source": [
    "- ### Joins\n",
    "\n",
    "**inner join with specific column**\n",
    "\n",
    "```sql\n",
    "SELECT table1.col1, table2.col2 \n",
    "FROM table1   --keep specific common columns from both table\n",
    "INNER JOIN table2\n",
    "ON table1.common_column=table2.common_column; \n",
    "\n",
    "---------------equivalently using table aliases-----------------\n",
    "\n",
    "SELECT t1.col1 AS table1.col1, t2.col2 AS table2.col2 \n",
    "FROM table1 t1  --keep specific common columns from both table\n",
    "INNER JOIN table2 t2\n",
    "ON t1.common_column=t2.common_column; \n",
    "```\n",
    "\n",
    "**inner join with all column**\n",
    "\n",
    "```sql\n",
    "SELECT * \n",
    "FROM table1   --keep all common columns from both table\n",
    "INNER JOIN table2\n",
    "ON table1.common_column=table2.common_column;     \n",
    "```\n",
    "\n",
    "**left join**\n",
    "\n",
    "```sql\n",
    "SELECT table1.col1, table1.col2 \n",
    "FROM table1   --keep all sepecific columns from the left table\n",
    "LEFT JOIN table2   --appear null if no match from the right\n",
    "ON table1.common_column=table2.common_column;     \n",
    "```\n",
    "\n",
    "**right join**\n",
    "\n",
    "```sql\n",
    "SELECT table1.col1, table1.col2\n",
    "FROM table2   --keep all sepecific columns from the right table\n",
    "RIGHT JOIN table1   --appear null if no match from the left\n",
    "ON table1.common_column=table2.common_column;     \n",
    "```\n",
    "**union join**\n",
    "\n",
    "```sql\n",
    "{LEFT JOIN block}\n",
    "UNION\n",
    "{RIGHT JOIN block}\n",
    "```"
   ]
  },
  {
   "cell_type": "markdown",
   "metadata": {},
   "source": [
    "---"
   ]
  },
  {
   "cell_type": "markdown",
   "metadata": {},
   "source": [
    "- ### Index & query\n",
    "\n",
    "**create index**\n",
    "\n",
    "```sql\n",
    "CREATE INDEX idx_name ON table_name(column_name);\n",
    "```\n",
    "**query**\n",
    "\n",
    "```sql\n",
    "SELECT * FROM table_name\n",
    "WHERE column_name = 'element_name'\n",
    "```\n",
    "\n",
    "**show index**\n",
    "\n",
    "```sql\n",
    "SHOW INDEX FROM table_name;\n",
    "```\n",
    "**drop index**\n",
    "\n",
    "```sql\n",
    "DROP INDEX idx_name ON table_name;\n",
    "```\n"
   ]
  },
  {
   "cell_type": "markdown",
   "metadata": {},
   "source": [
    "---"
   ]
  },
  {
   "cell_type": "markdown",
   "metadata": {},
   "source": [
    "- ### Datetime\n",
    "\n",
    "**interval**\n",
    "\n",
    "```sql\n",
    "SELECT NOW() + INTERVAL 7 DAY AS next_week;\n",
    "```\n",
    "\n",
    "```sql\n",
    "SELECT NOW() + INTERVAL 1 HOUR AS one_hour_ago;\n",
    "```\n",
    "\n",
    "**difference in days**\n",
    "\n",
    "```sql\n",
    "SELECT DATEDIFF('2025-12-31', '2025-08-01') AS days_difference;\n",
    "```\n",
    "\n",
    "**difference in seconds**\n",
    "\n",
    "```sql\n",
    "SELECT TIMESTAMPDIFF(SECOND, '2025-08-01 10:00:00', '2025-08-02 12:30:00') \n",
    "AS seconds_diff;\n",
    "```\n"
   ]
  },
  {
   "cell_type": "markdown",
   "metadata": {},
   "source": [
    "---"
   ]
  },
  {
   "cell_type": "markdown",
   "metadata": {},
   "source": [
    "- ### Transaction\n",
    "\n",
    "**transaction**\n",
    "\n",
    "```sql\n",
    "START TRANSACTION;      --MYSQL automatically commit by default\n",
    "UPDATE table_name SET x=x+n WHERE condition1; \n",
    "UPDATE table_name SET x=x-m WHERE condition2;\n",
    "COMMIT;\n",
    "```\n",
    "\n",
    "**rollback**\n",
    "\n",
    "```sql\n",
    "ROLLBACK;\n",
    "```"
   ]
  },
  {
   "cell_type": "markdown",
   "metadata": {},
   "source": [
    "---"
   ]
  },
  {
   "cell_type": "markdown",
   "metadata": {},
   "source": [
    "- ### View\n",
    "\n",
    "**create view**\n",
    "\n",
    "```sql\n",
    "CREATE VIEW view_name AS  --virtual table without storing data\n",
    "SELECT column1, column2 FROM table_name\n",
    "WHERE condition;\n",
    "```\n",
    "\n",
    "\n",
    "**look up table (and view)**\n",
    "\n",
    "```sql\n",
    "SHOW FULL TABLES IN tysql [WHERE TABLE_TYPE = 'VIEW'];\n",
    "```\n",
    "\n",
    "**delete view**\n",
    "\n",
    "```sql\n",
    "DROP VIEW view_name;\n",
    "```"
   ]
  },
  {
   "cell_type": "markdown",
   "metadata": {},
   "source": [
    "---"
   ]
  },
  {
   "cell_type": "markdown",
   "metadata": {},
   "source": [
    "- ### Procedure\n",
    "\n",
    "**create procedure**\n",
    "\n",
    "```sql\n",
    "CREATE PROCEDUREE proceduree_name([IN param1 INT], [OUT result INT])    --like function\n",
    "BEGIN\n",
    "    XXX --sql statement\n",
    "END;\n",
    "```\n",
    "\n",
    "**call procedure**\n",
    "\n",
    "```sql\n",
    "CALL proceduree_name(input1);\n",
    "```"
   ]
  },
  {
   "cell_type": "markdown",
   "metadata": {},
   "source": [
    "---"
   ]
  },
  {
   "cell_type": "markdown",
   "metadata": {},
   "source": [
    "- ### Function\n",
    "\n",
    "**built-in function**\n",
    "\n",
    "```sql\n",
    "SELECT (5+2*3)%3/2 AS expression\n",
    "```\n",
    "\n",
    "**user-defined function**\n",
    "\n",
    "```sql\n",
    "CREATE FUNCTION function_name(parameter)\n",
    "RETURNS data_type DETERMINISTIC\n",
    "BEGIN\n",
    "    XXX --function body\n",
    "    RETURN value;\n",
    "END;\n",
    "```\n",
    "\n",
    "**calling function**\n",
    "\n",
    "```sql\n",
    "SELECT function_name(input) [AS func]\n",
    "```"
   ]
  }
 ],
 "metadata": {
  "language_info": {
   "name": "python"
  }
 },
 "nbformat": 4,
 "nbformat_minor": 2
}
